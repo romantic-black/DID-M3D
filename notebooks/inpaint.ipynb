{
 "cells": [
  {
   "cell_type": "code",
   "execution_count": 67,
   "id": "initial_id",
   "metadata": {
    "collapsed": true,
    "ExecuteTime": {
     "end_time": "2023-12-22T04:04:33.689054100Z",
     "start_time": "2023-12-22T04:04:33.671429700Z"
    }
   },
   "outputs": [
    {
     "name": "stdout",
     "output_type": "stream",
     "text": [
      "The autoreload extension is already loaded. To reload it, use:\n",
      "  %reload_ext autoreload\n"
     ]
    }
   ],
   "source": [
    "import numpy as np\n",
    "import open3d as o3d\n",
    "import pathlib\n",
    "import re\n",
    "from ipywidgets import interact\n",
    "from lib.datasets.kitti_utils import Calibration\n",
    "import cv2\n",
    "\n",
    "%load_ext autoreload\n",
    "%autoreload 2"
   ]
  },
  {
   "cell_type": "code",
   "execution_count": 190,
   "outputs": [],
   "source": [
    "from pathlib import Path\n",
    "from tools.sample_util import SampleDatabase\n",
    "from tools.dataset_util import Dataset\n",
    "test_dir = Path(\"/mnt/e/DataSet/kitti/kitti_inst_database/test\")\n",
    "np.random.seed(0)\n",
    "import random\n",
    "random.seed(0)\n",
    "random_flip = 0\n",
    "database = SampleDatabase(\"/mnt/e/DataSet/kitti/kitti_inst_database/\", random_flip=random_flip)\n",
    "dataset = Dataset(\"train\", r\"/mnt/e/DataSet/kitti\")"
   ],
   "metadata": {
    "collapsed": false,
    "ExecuteTime": {
     "end_time": "2023-12-22T07:28:40.956948200Z",
     "start_time": "2023-12-22T07:28:39.068492200Z"
    }
   },
   "id": "c94df891dee8f1fa"
  },
  {
   "cell_type": "code",
   "execution_count": 191,
   "outputs": [],
   "source": [
    "idx =2131\n",
    "\n",
    "calib_ = dataset.get_calib(idx)\n",
    "image, depth = dataset.get_image_with_depth(idx, use_penet=False)\n",
    "ground, non_ground = dataset.get_lidar_with_ground(idx, fov=True)\n",
    "plane_ = dataset.get_plane(idx)\n",
    "grid = dataset.get_grid(idx)\n",
    "samples = database.get_samples(ground, non_ground, calib_, plane_, grid)\n",
    "image_, depth_, samples_ = database.add_samples_to_scene(samples, image, depth, use_edge_blur=True)\n"
   ],
   "metadata": {
    "collapsed": false,
    "ExecuteTime": {
     "end_time": "2023-12-22T07:28:41.189579200Z",
     "start_time": "2023-12-22T07:28:40.956948200Z"
    }
   },
   "id": "bfad8044d3b15f66"
  },
  {
   "cell_type": "code",
   "execution_count": 192,
   "outputs": [
    {
     "data": {
      "text/plain": "array([-2.47350363,  1.44091925, 59.50034874,  4.63      ,  1.45      ,\n        1.65      ,  2.0233292 ])"
     },
     "execution_count": 192,
     "metadata": {},
     "output_type": "execute_result"
    }
   ],
   "source": [
    "from tools.visualize_util import show_o3d\n",
    "from tools.sample_util import to3d\n",
    "\n",
    "sample = samples[3]\n",
    "cord_0, rgb_0 = sample.get_points()\n",
    "cord_1, rgb_1 = sample.get_points(True)\n",
    "rgb_0 = np.ones_like(cord_0) + np.array([0, 0, 255])\n",
    "rgb_1 = np.ones_like(cord_1) + np.array([255, 0, 0])\n",
    "cord = np.concatenate([cord_0, cord_1], axis=0)\n",
    "rgb = np.concatenate([rgb_0, rgb_1], axis=0)\n",
    "\n",
    "show_o3d(cord, rgb, bbox3d=sample.bbox3d_)\n",
    "\n",
    "sample.bbox3d_"
   ],
   "metadata": {
    "collapsed": false,
    "ExecuteTime": {
     "end_time": "2023-12-22T07:29:04.268359700Z",
     "start_time": "2023-12-22T07:28:41.192097700Z"
    }
   },
   "id": "12a34c2ad7f0c429"
  },
  {
   "cell_type": "code",
   "execution_count": null,
   "outputs": [],
   "source": [],
   "metadata": {
    "collapsed": false
   },
   "id": "842e845c5c5d4ae5"
  }
 ],
 "metadata": {
  "kernelspec": {
   "display_name": "Python 3",
   "language": "python",
   "name": "python3"
  },
  "language_info": {
   "codemirror_mode": {
    "name": "ipython",
    "version": 2
   },
   "file_extension": ".py",
   "mimetype": "text/x-python",
   "name": "python",
   "nbconvert_exporter": "python",
   "pygments_lexer": "ipython2",
   "version": "2.7.6"
  }
 },
 "nbformat": 4,
 "nbformat_minor": 5
}
