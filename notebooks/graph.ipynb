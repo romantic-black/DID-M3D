{
 "cells": [
  {
   "cell_type": "code",
   "execution_count": 29,
   "id": "initial_id",
   "metadata": {
    "collapsed": true,
    "ExecuteTime": {
     "end_time": "2024-01-04T05:30:03.919340400Z",
     "start_time": "2024-01-04T05:29:51.482946400Z"
    }
   },
   "outputs": [
    {
     "name": "stdout",
     "output_type": "stream",
     "text": [
      "The autoreload extension is already loaded. To reload it, use:\n",
      "  %reload_ext autoreload\n"
     ]
    }
   ],
   "source": [
    "import numpy as np\n",
    "import open3d as o3d\n",
    "import pathlib\n",
    "import re\n",
    "from ipywidgets import interact\n",
    "from lib.datasets.kitti_utils import Calibration\n",
    "import cv2\n",
    "\n",
    "%load_ext autoreload\n",
    "%autoreload 2\n",
    "\n",
    "from pathlib import Path\n",
    "from tools.sample_util import SampleDatabase\n",
    "from tools.dataset_util import Dataset\n",
    "test_dir = Path(\"/mnt/e/DataSet/kitti/kitti_drx_database/test\")\n",
    "np.random.seed(0)\n",
    "database = SampleDatabase(\"/mnt/e/DataSet/kitti/kitti_drx_database/\")\n",
    "dataset = Dataset(\"train\", r\"/mnt/e/DataSet/kitti\")"
   ]
  },
  {
   "cell_type": "code",
   "outputs": [],
   "source": [
    "idx =1146\n",
    "\n",
    "calib_ = dataset.get_calib(idx)\n",
    "bbox3d, _, _ = dataset.get_bbox(idx) \n",
    "image, depth = dataset.get_image_with_depth(idx, use_penet=False)\n",
    "ground, non_ground = dataset.get_lidar_with_ground(idx, fov=True)\n",
    "plane_ = dataset.get_plane(idx)\n",
    "grid = dataset.get_grid(idx)\n",
    "samples = database.get_samples(ground, non_ground, calib_, plane_, grid)\n",
    "image_, depth_, samples_ = database.add_samples_to_scene(samples, image, depth, use_edge_blur=True)"
   ],
   "metadata": {
    "collapsed": false,
    "ExecuteTime": {
     "end_time": "2024-01-04T06:43:39.324060700Z",
     "start_time": "2024-01-04T06:37:38.987042300Z"
    }
   },
   "id": "2cc636e73e9b893b",
   "execution_count": 78
  },
  {
   "cell_type": "markdown",
   "source": [
    "地面分割点云"
   ],
   "metadata": {
    "collapsed": false
   },
   "id": "596841245869d60a"
  },
  {
   "cell_type": "code",
   "outputs": [],
   "source": [
    "from tools.visualize_util import show_o3d\n",
    "\n",
    "sample = samples_[0]\n",
    "cord, rgb = sample.get_points()\n",
    "show_o3d([ground, non_ground], [[0,0,0], [0,255,0]], bbox3d=sample.bbox3d_)\n",
    "\n"
   ],
   "metadata": {
    "collapsed": false,
    "ExecuteTime": {
     "end_time": "2024-01-04T07:15:13.157206400Z",
     "start_time": "2024-01-04T06:58:51.044814100Z"
    }
   },
   "id": "9ea094aa94252991",
   "execution_count": 79
  },
  {
   "cell_type": "code",
   "outputs": [
    {
     "data": {
      "text/plain": "True"
     },
     "execution_count": 80,
     "metadata": {},
     "output_type": "execute_result"
    }
   ],
   "source": [
    "cv2.imwrite(\"i.png\", cv2.cvtColor(image_,cv2.COLOR_RGB2BGR))"
   ],
   "metadata": {
    "collapsed": false,
    "ExecuteTime": {
     "end_time": "2024-01-04T07:15:46.317593500Z",
     "start_time": "2024-01-04T07:15:46.257423200Z"
    }
   },
   "id": "9b27f93c9ae63ebb",
   "execution_count": 80
  },
  {
   "cell_type": "code",
   "outputs": [],
   "source": [],
   "metadata": {
    "collapsed": false
   },
   "id": "84198df6095c03d0"
  }
 ],
 "metadata": {
  "kernelspec": {
   "display_name": "Python 3",
   "language": "python",
   "name": "python3"
  },
  "language_info": {
   "codemirror_mode": {
    "name": "ipython",
    "version": 2
   },
   "file_extension": ".py",
   "mimetype": "text/x-python",
   "name": "python",
   "nbconvert_exporter": "python",
   "pygments_lexer": "ipython2",
   "version": "2.7.6"
  }
 },
 "nbformat": 4,
 "nbformat_minor": 5
}
