{
 "cells": [
  {
   "cell_type": "code",
   "execution_count": 3,
   "id": "initial_id",
   "metadata": {
    "collapsed": true,
    "ExecuteTime": {
     "end_time": "2024-01-02T11:49:02.093229400Z",
     "start_time": "2024-01-02T11:48:58.432526800Z"
    }
   },
   "outputs": [
    {
     "name": "stdout",
     "output_type": "stream",
     "text": [
      "The autoreload extension is already loaded. To reload it, use:\n",
      "  %reload_ext autoreload\n"
     ]
    }
   ],
   "source": [
    "import numpy as np\n",
    "import open3d as o3d\n",
    "import pathlib\n",
    "import re\n",
    "from ipywidgets import interact\n",
    "from lib.datasets.kitti_utils import Calibration\n",
    "import cv2\n",
    "\n",
    "%load_ext autoreload\n",
    "%autoreload 2\n",
    "\n",
    "from pathlib import Path\n",
    "from tools.sample_util import SampleDatabase\n",
    "from tools.dataset_util import Dataset\n",
    "test_dir = Path(\"/mnt/e/DataSet/kitti/kitti_drx_database/test\")\n",
    "np.random.seed(0)\n",
    "database = SampleDatabase(\"/mnt/e/DataSet/kitti/kitti_drx_database/\")\n",
    "dataset = Dataset(\"train\", r\"/mnt/e/DataSet/kitti\")"
   ]
  },
  {
   "cell_type": "code",
   "outputs": [],
   "source": [
    "idx =5\n",
    "\n",
    "calib_ = dataset.get_calib(idx)\n",
    "image, depth = dataset.get_image_with_depth(idx, use_penet=False)\n",
    "ground, non_ground = dataset.get_lidar_with_ground(idx, fov=True)\n",
    "plane_ = dataset.get_plane(idx)\n",
    "grid = dataset.get_grid(idx)\n",
    "samples = database.get_samples(ground, non_ground, calib_, plane_, grid)\n",
    "image_, depth_, samples_ = database.add_samples_to_scene(samples, image, depth, use_edge_blur=True)"
   ],
   "metadata": {
    "collapsed": false,
    "ExecuteTime": {
     "end_time": "2024-01-02T12:30:23.412865100Z",
     "start_time": "2024-01-02T12:30:22.960602200Z"
    }
   },
   "id": "2cc636e73e9b893b",
   "execution_count": 22
  },
  {
   "cell_type": "markdown",
   "source": [
    "地面分割点云"
   ],
   "metadata": {
    "collapsed": false
   },
   "id": "596841245869d60a"
  },
  {
   "cell_type": "code",
   "outputs": [],
   "source": [
    "from tools.visualize_util import show_o3d\n",
    "\n",
    "show_o3d([ground, non_ground], [[255,0,0], [0,255,0]])"
   ],
   "metadata": {
    "collapsed": false,
    "ExecuteTime": {
     "end_time": "2024-01-02T12:59:59.386834200Z",
     "start_time": "2024-01-02T12:30:24.300243500Z"
    }
   },
   "id": "9ea094aa94252991",
   "execution_count": 23
  },
  {
   "cell_type": "code",
   "outputs": [],
   "source": [],
   "metadata": {
    "collapsed": false
   },
   "id": "9b27f93c9ae63ebb"
  }
 ],
 "metadata": {
  "kernelspec": {
   "display_name": "Python 3",
   "language": "python",
   "name": "python3"
  },
  "language_info": {
   "codemirror_mode": {
    "name": "ipython",
    "version": 2
   },
   "file_extension": ".py",
   "mimetype": "text/x-python",
   "name": "python",
   "nbconvert_exporter": "python",
   "pygments_lexer": "ipython2",
   "version": "2.7.6"
  }
 },
 "nbformat": 4,
 "nbformat_minor": 5
}
