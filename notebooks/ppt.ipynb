{
 "cells": [
  {
   "cell_type": "code",
   "execution_count": 1,
   "id": "initial_id",
   "metadata": {
    "collapsed": true,
    "ExecuteTime": {
     "end_time": "2023-12-02T14:01:13.681565100Z",
     "start_time": "2023-12-02T14:01:12.166354300Z"
    }
   },
   "outputs": [
    {
     "name": "stdout",
     "output_type": "stream",
     "text": [
      "Jupyter environment detected. Enabling Open3D WebVisualizer.\n",
      "[Open3D INFO] WebRTC GUI backend enabled.\n",
      "[Open3D INFO] WebRTCWindowSystem: HTTP handshake server disabled.\n"
     ]
    }
   ],
   "source": [
    "import numpy as np\n",
    "import open3d as o3d\n",
    "import pathlib\n",
    "import re\n",
    "from ipywidgets import interact\n",
    "from lib.datasets.kitti_utils import Calibration\n",
    "import cv2\n",
    "\n",
    "%load_ext autoreload\n",
    "%autoreload 2"
   ]
  },
  {
   "cell_type": "code",
   "execution_count": 40,
   "outputs": [],
   "source": [
    "from pathlib import Path\n",
    "from tools.sample_util import SampleDatabase\n",
    "from tools.dataset_util import Dataset\n",
    "test_dir = Path(\"/mnt/e/DataSet/kitti/kitti_img_database/test\")\n",
    "np.random.seed(0)\n",
    "\n",
    "idx = 6\n",
    "\n",
    "database = SampleDatabase(\"/mnt/e/DataSet/kitti/kitti_img_database/\")\n",
    "dataset = Dataset(\"train\", r\"/mnt/e/DataSet/kitti\")\n",
    "\n",
    "calib_ = dataset.get_calib(idx)\n",
    "image, depth = dataset.get_image_with_depth(idx, use_penet=True)\n",
    "ground, non_ground = dataset.get_lidar_with_ground(idx, fov=True)\n",
    "plane_ = dataset.get_plane(idx)\n",
    "samples = database.get_samples(ground, non_ground, calib_, plane_)\n",
    "image_, depth_, flag = database.add_samples_to_scene(samples, image, depth)"
   ],
   "metadata": {
    "collapsed": false,
    "ExecuteTime": {
     "end_time": "2023-12-03T01:50:22.152645300Z",
     "start_time": "2023-12-03T01:50:21.810649Z"
    }
   },
   "id": "928698dd525d4c0c"
  },
  {
   "cell_type": "markdown",
   "source": [
    "#### Patchwork 地面分割演示"
   ],
   "metadata": {
    "collapsed": false
   },
   "id": "3d6b3d5b5b0eb95b"
  },
  {
   "cell_type": "code",
   "execution_count": 41,
   "outputs": [],
   "source": [
    "from tools.visualize_util import show_o3d\n",
    "\n",
    "rgb_ground = np.zeros_like(ground) + np.array([[255, 0, 0]])\n",
    "rgb_non_ground = np.zeros_like(non_ground) + np.array([[0, 255, 0]])\n",
    "\n",
    "lidar = np.concatenate([ground, non_ground], axis=0)\n",
    "rgb = np.concatenate([rgb_ground, rgb_non_ground], axis=0)\n",
    "\n",
    "show_o3d(lidar, rgb)"
   ],
   "metadata": {
    "collapsed": false,
    "ExecuteTime": {
     "end_time": "2023-12-03T01:50:23.903537400Z",
     "start_time": "2023-12-03T01:50:22.735835200Z"
    }
   },
   "id": "44a8302eadc94ece"
  },
  {
   "cell_type": "markdown",
   "source": [
    "#### 样本间重叠筛除演示"
   ],
   "metadata": {
    "collapsed": false
   },
   "id": "e1a48f25131dad2d"
  },
  {
   "cell_type": "code",
   "execution_count": 42,
   "outputs": [
    {
     "data": {
      "text/plain": "array([[1.0000006 , 0.        , 0.        , 0.        , 0.        ],\n       [0.        , 0.9999984 , 0.        , 0.        , 0.        ],\n       [0.        , 0.        , 1.0000004 , 0.        , 0.        ],\n       [0.        , 0.        , 0.        , 0.99999887, 0.        ],\n       [0.        , 0.        , 0.        , 0.        , 0.9999998 ]],\n      dtype=float32)"
     },
     "execution_count": 42,
     "metadata": {},
     "output_type": "execute_result"
    }
   ],
   "source": [
    "samples, bbox3d = database.sample_with_fixed_number(calib_, plane_)\n",
    "bbox3d_, flag1 = database.sample_put_on_plane(bbox3d, ground)\n",
    "\n",
    "from tools.box_util import rect2lidar, boxes_bev_iou_cpu\n",
    "# api 要求 bbox3d 为 lidar 坐标系\n",
    "bbox3d_in_lidar = rect2lidar(bbox3d_[flag1], calib_)\n",
    "\n",
    "# 判断样本间是否有重叠，第二次筛除\n",
    "iou = boxes_bev_iou_cpu(bbox3d_in_lidar, bbox3d_in_lidar)\n",
    "iou"
   ],
   "metadata": {
    "collapsed": false,
    "ExecuteTime": {
     "end_time": "2023-12-03T01:50:25.308849800Z",
     "start_time": "2023-12-03T01:50:25.235824800Z"
    }
   },
   "id": "faca9c4f43d2e42d"
  },
  {
   "cell_type": "markdown",
   "source": [
    "#### 障碍物重叠筛除演示"
   ],
   "metadata": {
    "collapsed": false
   },
   "id": "5ea46fa8d3dff555"
  },
  {
   "cell_type": "code",
   "execution_count": 43,
   "outputs": [],
   "source": [
    "show_o3d(non_ground, bbox3d=bbox3d_[flag1])"
   ],
   "metadata": {
    "collapsed": false,
    "ExecuteTime": {
     "end_time": "2023-12-03T01:51:19.657652300Z",
     "start_time": "2023-12-03T01:50:30.065463200Z"
    }
   },
   "id": "f4027b70300d5285"
  },
  {
   "cell_type": "markdown",
   "source": [
    "#### 生成场景演示"
   ],
   "metadata": {
    "collapsed": false
   },
   "id": "8cbcdd06c6ef557b"
  },
  {
   "cell_type": "code",
   "execution_count": 16,
   "outputs": [],
   "source": [
    "from tools.visualize_util import show_o3d\n",
    "from tools.sample_util import to3d\n",
    "\n",
    "cord, rgb = to3d(image_, depth_, calib_)\n",
    "show_o3d(cord, rgb, bbox3d=np.array([sample.bbox3d_ for sample in samples]))"
   ],
   "metadata": {
    "collapsed": false,
    "ExecuteTime": {
     "end_time": "2023-12-02T15:08:59.639276600Z",
     "start_time": "2023-12-02T15:08:39.540911500Z"
    }
   },
   "id": "b8bab0d3f44f1292"
  },
  {
   "cell_type": "markdown",
   "source": [
    "#### ry 修正演示"
   ],
   "metadata": {
    "collapsed": false
   },
   "id": "19ee9e051d065fca"
  },
  {
   "cell_type": "code",
   "execution_count": 35,
   "outputs": [
    {
     "data": {
      "text/plain": "array([[-20,   0,  25],\n       [-16,   0,  25],\n       [-12,   0,  25],\n       [ -8,   0,  25],\n       [ -4,   0,  25],\n       [  0,   0,  25],\n       [  4,   0,  25],\n       [  8,   0,  25],\n       [ 12,   0,  25],\n       [ 16,   0,  25]])"
     },
     "execution_count": 35,
     "metadata": {},
     "output_type": "execute_result"
    }
   ],
   "source": [
    "xyz_ = np.array([0, 0, 25])\n",
    "xyz_ = np.repeat(xyz_.reshape(1, -1), 10, axis=0)\n",
    "\n",
    "xyz_[:, 0] += np.arange(-20, 20, 4)\n",
    "xyz_"
   ],
   "metadata": {
    "collapsed": false,
    "ExecuteTime": {
     "end_time": "2023-12-02T15:53:53.963144Z",
     "start_time": "2023-12-02T15:53:53.862222900Z"
    }
   },
   "id": "48faee40b0aec495"
  },
  {
   "cell_type": "code",
   "execution_count": 39,
   "outputs": [],
   "source": [
    "from tools.sample_util import to3d, Sample\n",
    "samples, bbox3d = database.sample_with_fixed_idx(xyz_, calib_, 0)\n",
    "samples = [Sample(samples[i], bbox3d[i], calib_, database) for i in range(len(samples))]\n",
    "cords, rgbs = [], []\n",
    "for i in range(len(samples)):\n",
    "    cord, rgb = to3d(samples[i].image_, samples[i].depth_, calib_, samples[i].bbox2d_)\n",
    "    cords.append(cord)\n",
    "    rgbs.append(rgb)\n",
    "    \n",
    "cord = np.concatenate([*cords], axis=0)\n",
    "rgb = np.concatenate([*rgbs], axis=0)\n",
    "\n",
    "show_o3d(cord, rgb, bbox3d=np.array([sample.bbox3d_ for sample in samples]))"
   ],
   "metadata": {
    "collapsed": false,
    "ExecuteTime": {
     "end_time": "2023-12-03T01:47:29.777378Z",
     "start_time": "2023-12-03T01:45:44.116712300Z"
    }
   },
   "id": "e5e60d7d91643984"
  },
  {
   "cell_type": "code",
   "execution_count": null,
   "outputs": [],
   "source": [],
   "metadata": {
    "collapsed": false
   },
   "id": "63d18d9b8eba0951"
  }
 ],
 "metadata": {
  "kernelspec": {
   "display_name": "Python 3",
   "language": "python",
   "name": "python3"
  },
  "language_info": {
   "codemirror_mode": {
    "name": "ipython",
    "version": 2
   },
   "file_extension": ".py",
   "mimetype": "text/x-python",
   "name": "python",
   "nbconvert_exporter": "python",
   "pygments_lexer": "ipython2",
   "version": "2.7.6"
  }
 },
 "nbformat": 4,
 "nbformat_minor": 5
}
