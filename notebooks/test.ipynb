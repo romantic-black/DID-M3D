{
 "cells": [
  {
   "cell_type": "code",
   "execution_count": 2,
   "id": "initial_id",
   "metadata": {
    "collapsed": true,
    "ExecuteTime": {
     "end_time": "2023-12-11T08:02:55.492647400Z",
     "start_time": "2023-12-11T08:02:55.474135200Z"
    }
   },
   "outputs": [],
   "source": [
    "import numpy as np\n",
    "import open3d as o3d\n",
    "import pathlib\n",
    "import re\n",
    "from ipywidgets import interact\n",
    "from lib.datasets.kitti_utils import Calibration\n",
    "import cv2\n",
    "\n",
    "%load_ext autoreload\n",
    "%autoreload 2"
   ]
  },
  {
   "cell_type": "code",
   "execution_count": 4,
   "outputs": [],
   "source": [
    "from pathlib import Path\n",
    "from tools.sample_util import SampleDatabase\n",
    "from tools.dataset_util import Dataset\n",
    "import os\n",
    "\n",
    "root_dir = Path(\"/mnt/e/DataSet/kitti/kitti_inst_database/\")\n",
    "all_image = os.listdir(root_dir / \"image\")\n",
    "\n",
    "image_database = {}\n",
    "depth_database = {}\n",
    "for name in all_image:\n",
    "    full_path = root_dir / \"image\" / name\n",
    "    depth_path = root_dir / \"depth\" / name\n",
    "    name = name.split(\".\")[0]\n",
    "    image_database[name] = cv2.imread(str(full_path))\n",
    "    depth_database[name] = cv2.imread(str(depth_path), cv2.IMREAD_UNCHANGED) / 256.\n",
    "\n"
   ],
   "metadata": {
    "collapsed": false,
    "ExecuteTime": {
     "end_time": "2023-12-11T08:08:21.594462500Z",
     "start_time": "2023-12-11T08:07:22.019478800Z"
    }
   },
   "id": "cdd72fbbf3db654f"
  },
  {
   "cell_type": "code",
   "execution_count": 7,
   "outputs": [],
   "source": [
    "import pickle\n",
    "with open(root_dir / \"sample_image_database.pkl\", \"wb\") as f:\n",
    "    pickle.dump(image_database, f)\n",
    "with open(root_dir / \"sample_depth_database.pkl\", \"wb\") as f:\n",
    "    pickle.dump(depth_database, f)"
   ],
   "metadata": {
    "collapsed": false,
    "ExecuteTime": {
     "end_time": "2023-12-11T08:11:04.103832500Z",
     "start_time": "2023-12-11T08:11:01.685441600Z"
    }
   },
   "id": "48553eb77b1cc06d"
  },
  {
   "cell_type": "code",
   "execution_count": null,
   "outputs": [],
   "source": [],
   "metadata": {
    "collapsed": false
   },
   "id": "b482f58574be0dd5"
  }
 ],
 "metadata": {
  "kernelspec": {
   "display_name": "Python 3",
   "language": "python",
   "name": "python3"
  },
  "language_info": {
   "codemirror_mode": {
    "name": "ipython",
    "version": 2
   },
   "file_extension": ".py",
   "mimetype": "text/x-python",
   "name": "python",
   "nbconvert_exporter": "python",
   "pygments_lexer": "ipython2",
   "version": "2.7.6"
  }
 },
 "nbformat": 4,
 "nbformat_minor": 5
}
