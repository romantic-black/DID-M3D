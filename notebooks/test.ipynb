{
 "cells": [
  {
   "cell_type": "code",
   "execution_count": 1,
   "id": "initial_id",
   "metadata": {
    "collapsed": true,
    "ExecuteTime": {
     "end_time": "2023-12-07T05:48:47.744662300Z",
     "start_time": "2023-12-07T05:48:45.972826400Z"
    }
   },
   "outputs": [
    {
     "name": "stdout",
     "output_type": "stream",
     "text": [
      "Jupyter environment detected. Enabling Open3D WebVisualizer.\n",
      "[Open3D INFO] WebRTC GUI backend enabled.\n",
      "[Open3D INFO] WebRTCWindowSystem: HTTP handshake server disabled.\n"
     ]
    }
   ],
   "source": [
    "import numpy as np\n",
    "import open3d as o3d\n",
    "import pathlib\n",
    "import re\n",
    "from ipywidgets import interact\n",
    "from lib.datasets.kitti_utils import Calibration\n",
    "import cv2\n",
    "\n",
    "%load_ext autoreload\n",
    "%autoreload 2"
   ]
  },
  {
   "cell_type": "code",
   "execution_count": 68,
   "outputs": [],
   "source": [
    "from pathlib import Path\n",
    "from tools.sample_util import SampleDatabase\n",
    "from tools.dataset_util import Dataset\n",
    "test_dir = Path(\"/mnt/e/DataSet/kitti/kitti_img_database/test\")\n",
    "np.random.seed(0)\n",
    "\n",
    "idx = 4\n",
    "\n",
    "database = SampleDatabase(\"/mnt/e/DataSet/kitti/kitti_img_database/\")\n",
    "dataset = Dataset(\"train\", r\"/mnt/e/DataSet/kitti\")\n",
    "\n",
    "calib_ = dataset.get_calib(idx)\n",
    "image, depth = dataset.get_image_with_depth(idx, use_penet=True)\n",
    "ground, non_ground = dataset.get_lidar_with_ground(idx, fov=True)\n",
    "plane_ = dataset.get_plane(idx)\n",
    "samples = database.get_samples(ground, non_ground, calib_, plane_)"
   ],
   "metadata": {
    "collapsed": false,
    "ExecuteTime": {
     "end_time": "2023-12-07T07:17:28.641974Z",
     "start_time": "2023-12-07T07:17:28.124063200Z"
    }
   },
   "id": "cdd72fbbf3db654f"
  },
  {
   "cell_type": "code",
   "execution_count": 69,
   "outputs": [],
   "source": [
    "image_, depth_, samples = database.add_samples_to_scene(samples, image, depth, use_edge_blur=True)"
   ],
   "metadata": {
    "collapsed": false,
    "ExecuteTime": {
     "end_time": "2023-12-07T07:17:28.665506400Z",
     "start_time": "2023-12-07T07:17:28.642973500Z"
    }
   },
   "id": "821a004c034168b4"
  },
  {
   "cell_type": "code",
   "execution_count": 70,
   "outputs": [
    {
     "data": {
      "text/plain": "True"
     },
     "execution_count": 70,
     "metadata": {},
     "output_type": "execute_result"
    }
   ],
   "source": [
    "from tools.visualize_util import plt_show\n",
    "cv2.imwrite(\"0.png\", image_)"
   ],
   "metadata": {
    "collapsed": false,
    "ExecuteTime": {
     "end_time": "2023-12-07T07:17:28.698517400Z",
     "start_time": "2023-12-07T07:17:28.665506400Z"
    }
   },
   "id": "bc0f4bca94f7048e"
  },
  {
   "cell_type": "code",
   "execution_count": 24,
   "outputs": [
    {
     "data": {
      "text/plain": "<Figure size 640x480 with 1 Axes>",
      "image/png": "[encoded data removed]"
     },
     "metadata": {},
     "output_type": "display_data"
    }
   ],
   "source": [
    "i = image_.copy()\n",
    "cv2.drawContours(i, contours, -1, (0, 255, 0), 1)\n",
    "plt_show(i)"
   ],
   "metadata": {
    "collapsed": false,
    "ExecuteTime": {
     "end_time": "2023-12-07T06:35:51.882100700Z",
     "start_time": "2023-12-07T06:35:51.728262700Z"
    }
   },
   "id": "a3b59eec349f19bd"
  },
  {
   "cell_type": "code",
   "execution_count": null,
   "outputs": [],
   "source": [],
   "metadata": {
    "collapsed": false
   },
   "id": "48553eb77b1cc06d"
  }
 ],
 "metadata": {
  "kernelspec": {
   "display_name": "Python 3",
   "language": "python",
   "name": "python3"
  },
  "language_info": {
   "codemirror_mode": {
    "name": "ipython",
    "version": 2
   },
   "file_extension": ".py",
   "mimetype": "text/x-python",
   "name": "python",
   "nbconvert_exporter": "python",
   "pygments_lexer": "ipython2",
   "version": "2.7.6"
  }
 },
 "nbformat": 4,
 "nbformat_minor": 5
}
