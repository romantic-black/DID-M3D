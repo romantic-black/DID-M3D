{
 "cells": [
  {
   "cell_type": "code",
   "execution_count": 2,
   "id": "initial_id",
   "metadata": {
    "collapsed": true,
    "ExecuteTime": {
     "end_time": "2023-12-11T08:02:55.492647400Z",
     "start_time": "2023-12-11T08:02:55.474135200Z"
    }
   },
   "outputs": [],
   "source": [
    "import numpy as np\n",
    "import open3d as o3d\n",
    "import pathlib\n",
    "import re\n",
    "from ipywidgets import interact\n",
    "from lib.datasets.kitti_utils import Calibration\n",
    "import cv2\n",
    "\n",
    "%load_ext autoreload\n",
    "%autoreload 2"
   ]
  },
  {
   "cell_type": "code",
   "execution_count": 4,
   "outputs": [],
   "source": [
    "from pathlib import Path\n",
    "from tools.sample_util import SampleDatabase\n",
    "from tools.dataset_util import Dataset\n",
    "import os\n",
    "\n",
    "root_dir = Path(\"/mnt/e/DataSet/kitti/kitti_inst_database/\")\n",
    "all_image = os.listdir(root_dir / \"image\")\n",
    "\n",
    "image_database = {}\n",
    "depth_database = {}\n",
    "for name in all_image:\n",
    "    full_path = root_dir / \"image\" / name\n",
    "    depth_path = root_dir / \"depth\" / name\n",
    "    name = name.split(\".\")[0]\n",
    "    image_database[name] = cv2.imread(str(full_path))\n",
    "    depth_database[name] = cv2.imread(str(depth_path), cv2.IMREAD_UNCHANGED) / 256.\n",
    "\n"
   ],
   "metadata": {
    "collapsed": false,
    "ExecuteTime": {
     "end_time": "2023-12-11T08:08:21.594462500Z",
     "start_time": "2023-12-11T08:07:22.019478800Z"
    }
   },
   "id": "cdd72fbbf3db654f"
  },
  {
   "cell_type": "code",
   "execution_count": 7,
   "outputs": [],
   "source": [
    "import pickle\n",
    "with open(root_dir / \"sample_image_database.pkl\", \"wb\") as f:\n",
    "    pickle.dump(image_database, f)\n",
    "with open(root_dir / \"sample_depth_database.pkl\", \"wb\") as f:\n",
    "    pickle.dump(depth_database, f)"
   ],
   "metadata": {
    "collapsed": false,
    "ExecuteTime": {
     "end_time": "2023-12-11T08:11:04.103832500Z",
     "start_time": "2023-12-11T08:11:01.685441600Z"
    }
   },
   "id": "48553eb77b1cc06d"
  },
  {
   "cell_type": "code",
   "execution_count": 9,
   "outputs": [],
   "source": [
    "from pathlib import Path\n",
    "from tools.sample_util import SampleDatabase\n",
    "from tools.dataset_util import Dataset\n",
    "import os\n",
    "import cv2\n",
    "\n",
    "root_dir = Path(\"/mnt/e/DataSet/kitti/kitti_inst_database/\")\n",
    "all_image = os.listdir(root_dir / \"depth_dense\")\n",
    "\n",
    "depth_database = {}\n",
    "for name in all_image:\n",
    "    depth_path = root_dir / \"depth_dense\" / name\n",
    "    name = name.split(\".\")[0]\n",
    "    depth_database[name] = cv2.imread(str(depth_path), cv2.IMREAD_UNCHANGED) / 256.\n"
   ],
   "metadata": {
    "collapsed": false,
    "ExecuteTime": {
     "end_time": "2023-12-18T05:27:56.704678600Z",
     "start_time": "2023-12-18T05:27:29.129274800Z"
    }
   },
   "id": "b482f58574be0dd5"
  },
  {
   "cell_type": "code",
   "execution_count": 10,
   "outputs": [
    {
     "data": {
      "text/plain": "array([[ 0.        ,  0.        ,  0.        , ...,  0.        ,\n         0.        ,  0.        ],\n       [ 0.        ,  0.        ,  0.        , ...,  0.        ,\n         0.        ,  0.        ],\n       [ 0.        ,  0.        ,  0.        , ...,  0.        ,\n         0.        ,  0.        ],\n       ...,\n       [22.21484375, 22.3828125 , 22.21484375, ..., 22.44140625,\n        22.51953125, 22.6484375 ],\n       [22.453125  , 22.421875  , 22.4609375 , ..., 22.5       ,\n        22.5390625 , 22.67578125],\n       [22.35546875, 22.3203125 , 22.39453125, ..., 22.453125  ,\n        22.453125  , 22.53125   ]])"
     },
     "execution_count": 10,
     "metadata": {},
     "output_type": "execute_result"
    }
   ],
   "source": [
    "depth_database['001309_1']"
   ],
   "metadata": {
    "collapsed": false,
    "ExecuteTime": {
     "end_time": "2023-12-18T05:28:08.038211100Z",
     "start_time": "2023-12-18T05:28:07.988674Z"
    }
   },
   "id": "77c5cfd6b336fe1d"
  },
  {
   "cell_type": "code",
   "execution_count": 11,
   "outputs": [],
   "source": [
    "import pickle\n",
    "with open(root_dir / \"sample_depth_dense_database.pkl\", \"wb\") as f:\n",
    "    pickle.dump(depth_database, f)"
   ],
   "metadata": {
    "collapsed": false,
    "ExecuteTime": {
     "end_time": "2023-12-18T05:28:45.456713100Z",
     "start_time": "2023-12-18T05:28:44.379007800Z"
    }
   },
   "id": "bdea5dd1b65608b3"
  },
  {
   "cell_type": "code",
   "execution_count": 15,
   "outputs": [],
   "source": [
    "with open(root_dir / \"sample_depth_database.pkl\", \"rb\") as f:\n",
    "    depth_database = pickle.load(f)"
   ],
   "metadata": {
    "collapsed": false,
    "ExecuteTime": {
     "end_time": "2023-12-18T05:46:03.131948100Z",
     "start_time": "2023-12-18T05:46:02.012311900Z"
    }
   },
   "id": "1792b84862dd840f"
  },
  {
   "cell_type": "code",
   "execution_count": 16,
   "outputs": [
    {
     "data": {
      "text/plain": "array([[ 0.        ,  0.        ,  0.        , ...,  0.        ,\n         0.        ,  0.        ],\n       [ 0.        ,  0.        ,  0.        , ...,  0.        ,\n         0.        ,  0.        ],\n       [ 0.        ,  0.        ,  0.        , ...,  0.        ,\n         0.        ,  0.        ],\n       ...,\n       [22.21875   , 22.3359375 , 22.21875   , ..., 22.4609375 ,\n        22.47265625, 22.64453125],\n       [22.4375    , 22.359375  , 22.40625   , ..., 22.484375  ,\n        22.5       , 22.60546875],\n       [22.35546875, 22.3359375 , 22.39453125, ..., 22.4140625 ,\n        22.40625   , 22.453125  ]])"
     },
     "execution_count": 16,
     "metadata": {},
     "output_type": "execute_result"
    }
   ],
   "source": [
    "depth_database['001309_1']"
   ],
   "metadata": {
    "collapsed": false,
    "ExecuteTime": {
     "end_time": "2023-12-18T05:46:12.533222Z",
     "start_time": "2023-12-18T05:46:12.501075900Z"
    }
   },
   "id": "aee1d46c31495a59"
  },
  {
   "cell_type": "code",
   "execution_count": null,
   "outputs": [],
   "source": [],
   "metadata": {
    "collapsed": false
   },
   "id": "1de780977c1ba173"
  }
 ],
 "metadata": {
  "kernelspec": {
   "display_name": "Python 3",
   "language": "python",
   "name": "python3"
  },
  "language_info": {
   "codemirror_mode": {
    "name": "ipython",
    "version": 2
   },
   "file_extension": ".py",
   "mimetype": "text/x-python",
   "name": "python",
   "nbconvert_exporter": "python",
   "pygments_lexer": "ipython2",
   "version": "2.7.6"
  }
 },
 "nbformat": 4,
 "nbformat_minor": 5
}
