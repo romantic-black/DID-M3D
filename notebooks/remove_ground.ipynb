{
 "cells": [
  {
   "cell_type": "code",
   "execution_count": 1,
   "id": "initial_id",
   "metadata": {
    "collapsed": true,
    "ExecuteTime": {
     "end_time": "2023-12-20T12:00:19.957364300Z",
     "start_time": "2023-12-20T12:00:15.895308Z"
    }
   },
   "outputs": [
    {
     "name": "stdout",
     "output_type": "stream",
     "text": [
      "Jupyter environment detected. Enabling Open3D WebVisualizer.\n",
      "[Open3D INFO] WebRTC GUI backend enabled.\n",
      "[Open3D INFO] WebRTCWindowSystem: HTTP handshake server disabled.\n"
     ]
    }
   ],
   "source": [
    "import numpy as np\n",
    "import open3d as o3d\n",
    "import pathlib\n",
    "import re\n",
    "from ipywidgets import interact\n",
    "from lib.datasets.kitti_utils import Calibration\n",
    "import cv2\n",
    "\n",
    "%load_ext autoreload\n",
    "%autoreload 2\n",
    "from pathlib import Path\n",
    "from tools.sample_util import SampleDatabase\n",
    "from tools.dataset_util import Dataset\n",
    "\n",
    "test_dir = Path(\"/mnt/e/DataSet/kitti/kitti_inst_database/test\")\n",
    "np.random.seed(0)\n",
    "import random\n",
    "\n",
    "random.seed(0)\n",
    "random_flip = 0.5\n",
    "database = SampleDatabase(\"/mnt/e/DataSet/kitti/kitti_inst_database/\", random_flip=random_flip)\n",
    "dataset = Dataset(\"train\", r\"/mnt/e/DataSet/kitti\")"
   ]
  },
  {
   "cell_type": "code",
   "execution_count": 7,
   "outputs": [
    {
     "name": "stdout",
     "output_type": "stream",
     "text": [
      "0\n",
      "1\n",
      "2\n",
      "3\n",
      "4\n",
      "5\n",
      "6\n",
      "7\n",
      "8\n",
      "9\n",
      "10\n",
      "11\n",
      "12\n",
      "13\n",
      "14\n",
      "15\n",
      "16\n",
      "17\n",
      "18\n",
      "19\n",
      "20\n",
      "21\n",
      "22\n",
      "23\n",
      "24\n",
      "25\n",
      "26\n",
      "27\n",
      "28\n"
     ]
    },
    {
     "ename": "KeyboardInterrupt",
     "evalue": "",
     "output_type": "error",
     "traceback": [
      "\u001B[0;31m---------------------------------------------------------------------------\u001B[0m",
      "\u001B[0;31mKeyboardInterrupt\u001B[0m                         Traceback (most recent call last)",
      "\u001B[0;32m/tmp/ipykernel_18299/3739500480.py\u001B[0m in \u001B[0;36m<cell line: 4>\u001B[0;34m()\u001B[0m\n\u001B[1;32m      7\u001B[0m     \u001B[0mcalib\u001B[0m \u001B[0;34m=\u001B[0m \u001B[0mdataset\u001B[0m\u001B[0;34m.\u001B[0m\u001B[0mget_calib\u001B[0m\u001B[0;34m(\u001B[0m\u001B[0midx\u001B[0m\u001B[0;34m)\u001B[0m\u001B[0;34m\u001B[0m\u001B[0;34m\u001B[0m\u001B[0m\n\u001B[1;32m      8\u001B[0m     \u001B[0mh\u001B[0m\u001B[0;34m,\u001B[0m \u001B[0mw\u001B[0m \u001B[0;34m=\u001B[0m \u001B[0mimage\u001B[0m\u001B[0;34m[\u001B[0m\u001B[0;34m:\u001B[0m\u001B[0;36m2\u001B[0m\u001B[0;34m]\u001B[0m\u001B[0;34m\u001B[0m\u001B[0;34m\u001B[0m\u001B[0m\n\u001B[0;32m----> 9\u001B[0;31m     \u001B[0mcord\u001B[0m\u001B[0;34m,\u001B[0m \u001B[0mrgb\u001B[0m \u001B[0;34m=\u001B[0m \u001B[0mto3d\u001B[0m\u001B[0;34m(\u001B[0m\u001B[0mimage\u001B[0m\u001B[0;34m,\u001B[0m \u001B[0mdepth\u001B[0m\u001B[0;34m,\u001B[0m \u001B[0mcalib\u001B[0m\u001B[0;34m)\u001B[0m\u001B[0;34m\u001B[0m\u001B[0;34m\u001B[0m\u001B[0m\n\u001B[0m\u001B[1;32m     10\u001B[0m     \u001B[0mcord\u001B[0m \u001B[0;34m=\u001B[0m \u001B[0mcord\u001B[0m\u001B[0;34m.\u001B[0m\u001B[0mastype\u001B[0m\u001B[0;34m(\u001B[0m\u001B[0mnp\u001B[0m\u001B[0;34m.\u001B[0m\u001B[0mfloat32\u001B[0m\u001B[0;34m)\u001B[0m\u001B[0;34m\u001B[0m\u001B[0;34m\u001B[0m\u001B[0m\n\u001B[1;32m     11\u001B[0m     \u001B[0mcord\u001B[0m\u001B[0;34m.\u001B[0m\u001B[0mtofile\u001B[0m\u001B[0;34m(\u001B[0m\u001B[0mstr\u001B[0m\u001B[0;34m(\u001B[0m\u001B[0mroot_dir\u001B[0m \u001B[0;34m/\u001B[0m \u001B[0mfile_name\u001B[0m\u001B[0;34m)\u001B[0m\u001B[0;34m)\u001B[0m\u001B[0;34m\u001B[0m\u001B[0;34m\u001B[0m\u001B[0m\n",
      "\u001B[0;32m/home/a/DID-M3D/tools/sample_util.py\u001B[0m in \u001B[0;36mto3d\u001B[0;34m(image, depth, calib, bbox2d)\u001B[0m\n\u001B[1;32m     52\u001B[0m     \u001B[0mv\u001B[0m \u001B[0;34m=\u001B[0m \u001B[0mnp\u001B[0m\u001B[0;34m.\u001B[0m\u001B[0mtile\u001B[0m\u001B[0;34m(\u001B[0m\u001B[0mnp\u001B[0m\u001B[0;34m.\u001B[0m\u001B[0marange\u001B[0m\u001B[0;34m(\u001B[0m\u001B[0mh\u001B[0m\u001B[0;34m)\u001B[0m\u001B[0;34m,\u001B[0m \u001B[0mw\u001B[0m\u001B[0;34m)\u001B[0m\u001B[0;34m\u001B[0m\u001B[0;34m\u001B[0m\u001B[0m\n\u001B[1;32m     53\u001B[0m     \u001B[0md\u001B[0m \u001B[0;34m=\u001B[0m \u001B[0mdepth\u001B[0m\u001B[0;34m[\u001B[0m\u001B[0mv\u001B[0m\u001B[0;34m,\u001B[0m \u001B[0mu\u001B[0m\u001B[0;34m]\u001B[0m\u001B[0;34m\u001B[0m\u001B[0;34m\u001B[0m\u001B[0m\n\u001B[0;32m---> 54\u001B[0;31m     \u001B[0mrgb\u001B[0m \u001B[0;34m=\u001B[0m \u001B[0mimage\u001B[0m\u001B[0;34m[\u001B[0m\u001B[0mv\u001B[0m\u001B[0;34m,\u001B[0m \u001B[0mu\u001B[0m\u001B[0;34m]\u001B[0m\u001B[0;34m[\u001B[0m\u001B[0;34m:\u001B[0m\u001B[0;34m,\u001B[0m \u001B[0;34m:\u001B[0m\u001B[0;34m:\u001B[0m\u001B[0;34m-\u001B[0m\u001B[0;36m1\u001B[0m\u001B[0;34m]\u001B[0m\u001B[0;34m\u001B[0m\u001B[0;34m\u001B[0m\u001B[0m\n\u001B[0m\u001B[1;32m     55\u001B[0m     \u001B[0;32mif\u001B[0m \u001B[0mbbox2d\u001B[0m\u001B[0;34m:\u001B[0m  \u001B[0;31m# 对样本，需要附加其在图像的位置\u001B[0m\u001B[0;34m\u001B[0m\u001B[0;34m\u001B[0m\u001B[0m\n\u001B[1;32m     56\u001B[0m         \u001B[0mu\u001B[0m \u001B[0;34m+=\u001B[0m \u001B[0mbbox2d\u001B[0m\u001B[0;34m[\u001B[0m\u001B[0;36m0\u001B[0m\u001B[0;34m]\u001B[0m\u001B[0;34m\u001B[0m\u001B[0;34m\u001B[0m\u001B[0m\n",
      "\u001B[0;31mKeyboardInterrupt\u001B[0m: "
     ]
    }
   ],
   "source": [
    "from tools.sample_util import to3d\n",
    "root_dir = Path(\"/mnt/e/DataSet/kitti/training/image_points\")\n",
    "\n",
    "for idx in range(7481):\n",
    "    file_name = str(idx).zfill(6) + \".bin\" \n",
    "    image, depth = dataset.get_image_with_depth(idx, use_penet=False)\n",
    "    calib = dataset.get_calib(idx)\n",
    "    h, w = image[:2]\n",
    "    cord, rgb = to3d(image[200:], depth[200:], calib, bbox2d=[0, 200])\n",
    "    cord = cord.astype(np.float32)\n",
    "    cord.tofile(str(root_dir / file_name))\n",
    "    print(idx)\n",
    "    "
   ],
   "metadata": {
    "collapsed": false,
    "ExecuteTime": {
     "end_time": "2023-12-20T13:02:31.020850Z",
     "start_time": "2023-12-20T13:02:27.961018Z"
    }
   },
   "id": "6766e862af72a365"
  },
  {
   "cell_type": "code",
   "execution_count": null,
   "outputs": [],
   "source": [
    "from tools.sample_util import to3d, to2d\n",
    "idx = 2\n",
    "calib = dataset.get_calib(idx)\n",
    "ground, non_ground = dataset.get_lidar_with_ground(idx, fov=True)\n",
    "plane = dataset.get_plane(idx)\n",
    "\n",
    "\n",
    "u = np.arange(0, depth.shape[0])\n",
    "v = np.arange(0, depth.shape[1])\n",
    "u, v = np.meshgrid(u, v)\n",
    "u = u.reshape(-1)\n",
    "v = v.reshape(-1)"
   ],
   "metadata": {
    "collapsed": false,
    "is_executing": true
   },
   "id": "7064c7502eefe473"
  },
  {
   "cell_type": "code",
   "execution_count": 23,
   "outputs": [
    {
     "data": {
      "text/plain": "array([[   0,    1,    2, ...,  373,  374,  375],\n       [   0,    0,    0, ..., 1185, 1185, 1185],\n       [   1,    1,    1, ...,    1,    1,    1]])"
     },
     "execution_count": 23,
     "metadata": {},
     "output_type": "execute_result"
    }
   ],
   "source": [
    "\n",
    "a, b, c, d = plane\n",
    "P = calib.P2\n",
    "# Step 1: Convert the point to homogeneous coordinates\n",
    "uv_homogeneous = np.array([u, v, np.ones_like(u)])\n",
    "\n",
    "# Step 2: Compute the inverse projection\n",
    "P2_inv = np.linalg.pinv(P)\n",
    "ray = np.dot(P2_inv, uv_homogeneous)\n",
    "uv_homogeneous"
   ],
   "metadata": {
    "collapsed": false,
    "ExecuteTime": {
     "end_time": "2023-12-20T14:03:39.599401900Z",
     "start_time": "2023-12-20T14:03:39.564719500Z"
    }
   },
   "id": "e1edf83ebe9d5701"
  },
  {
   "cell_type": "code",
   "execution_count": 15,
   "outputs": [
    {
     "name": "stderr",
     "output_type": "stream",
     "text": [
      "/tmp/ipykernel_18299/3417347971.py:17: VisibleDeprecationWarning: Creating an ndarray from ragged nested sequences (which is a list-or-tuple of lists-or-tuples-or ndarrays with different lengths or shapes) is deprecated. If you meant to do this, you must specify 'dtype=object' when creating the ndarray.\n",
      "  uv_homogeneous = np.array([u, v, 1])\n"
     ]
    },
    {
     "ename": "ValueError",
     "evalue": "operands could not be broadcast together with shapes (1186,376) (3,) ",
     "output_type": "error",
     "traceback": [
      "\u001B[0;31m---------------------------------------------------------------------------\u001B[0m",
      "\u001B[0;31mValueError\u001B[0m                                Traceback (most recent call last)",
      "\u001B[0;32m/tmp/ipykernel_18299/3417347971.py\u001B[0m in \u001B[0;36m<cell line: 35>\u001B[0;34m()\u001B[0m\n\u001B[1;32m     33\u001B[0m     \u001B[0;32mreturn\u001B[0m \u001B[0mground_point\u001B[0m\u001B[0;34m\u001B[0m\u001B[0;34m\u001B[0m\u001B[0m\n\u001B[1;32m     34\u001B[0m \u001B[0;34m\u001B[0m\u001B[0m\n\u001B[0;32m---> 35\u001B[0;31m \u001B[0mz\u001B[0m \u001B[0;34m=\u001B[0m \u001B[0mimage_point_to_road\u001B[0m\u001B[0;34m(\u001B[0m\u001B[0mplane\u001B[0m\u001B[0;34m,\u001B[0m \u001B[0mcalib\u001B[0m\u001B[0;34m,\u001B[0m \u001B[0mu\u001B[0m\u001B[0;34m,\u001B[0m \u001B[0mv\u001B[0m\u001B[0;34m)\u001B[0m\u001B[0;34m\u001B[0m\u001B[0;34m\u001B[0m\u001B[0m\n\u001B[0m",
      "\u001B[0;32m/tmp/ipykernel_18299/3417347971.py\u001B[0m in \u001B[0;36mimage_point_to_road\u001B[0;34m(road, calib, u, v)\u001B[0m\n\u001B[1;32m     30\u001B[0m \u001B[0;34m\u001B[0m\u001B[0m\n\u001B[1;32m     31\u001B[0m     \u001B[0;31m# Step 4: Compute the ground point\u001B[0m\u001B[0;34m\u001B[0m\u001B[0;34m\u001B[0m\u001B[0;34m\u001B[0m\u001B[0m\n\u001B[0;32m---> 32\u001B[0;31m     \u001B[0mground_point\u001B[0m \u001B[0;34m=\u001B[0m \u001B[0mlambda_val\u001B[0m \u001B[0;34m*\u001B[0m \u001B[0mdirection\u001B[0m\u001B[0;34m\u001B[0m\u001B[0;34m\u001B[0m\u001B[0m\n\u001B[0m\u001B[1;32m     33\u001B[0m     \u001B[0;32mreturn\u001B[0m \u001B[0mground_point\u001B[0m\u001B[0;34m\u001B[0m\u001B[0;34m\u001B[0m\u001B[0m\n\u001B[1;32m     34\u001B[0m \u001B[0;34m\u001B[0m\u001B[0m\n",
      "\u001B[0;31mValueError\u001B[0m: operands could not be broadcast together with shapes (1186,376) (3,) "
     ]
    }
   ],
   "source": [
    "\n",
    "# Since the ray is lambda * [X, Y, Z, 1]^T, its direction is only the first 3 elements.\n",
    "direction = ray[:3]\n",
    "\n",
    "# Step 3: Compute the intersection of the ray with the ground plane\n",
    "# ax + by + cz + d = 0 => aX + bY + cZ + d = 0 (for homogeneous [X, Y, Z, 1]^T)\n",
    "# lambda is the scaling factor\n",
    "lambda_val = -d / (a * direction[0] + b * direction[1] + c * direction[2])\n",
    "\n",
    "# Step 4: Compute the ground point\n",
    "ground_point = lambda_val * direction\n"
   ],
   "metadata": {
    "collapsed": false,
    "ExecuteTime": {
     "end_time": "2023-12-20T13:59:41.485056500Z",
     "start_time": "2023-12-20T13:59:41.285935800Z"
    }
   },
   "id": "3d597b60d29be3ba"
  },
  {
   "cell_type": "code",
   "execution_count": 11,
   "outputs": [
    {
     "name": "stderr",
     "output_type": "stream",
     "text": [
      "/tmp/ipykernel_18299/2263939655.py:5: DeprecationWarning: `interp2d` is deprecated!\n",
      "`interp2d` is deprecated in SciPy 1.10 and will be removed in SciPy 1.12.0.\n",
      "\n",
      "For legacy code, nearly bug-for-bug compatible replacements are\n",
      "`RectBivariateSpline` on regular grids, and `bisplrep`/`bisplev` for\n",
      "scattered 2D data.\n",
      "\n",
      "In new code, for regular grids use `RegularGridInterpolator` instead.\n",
      "For scattered data, prefer `LinearNDInterpolator` or\n",
      "`CloughTocher2DInterpolator`.\n",
      "\n",
      "For more details see\n",
      "`https://gist.github.com/ev-br/8544371b40f414b7eaf3fe6217209bff`\n",
      "\n",
      "  f = scipy.interpolate.interp2d(v, u, z, kind='cubic')\n",
      "/home/a/anaconda3/envs/DID-M3D/lib/python3.8/site-packages/scipy/interpolate/_fitpack_impl.py:975: RuntimeWarning: A theoretically impossible result when finding a smoothing spline\n",
      "with fp = s. Probable causes: s too small or badly chosen eps.\n",
      "(abs(fp-s)/s>0.001)\n",
      "\tkx,ky=3,3 nx,ny=32,23 m=7272 fp=27545217819.240185 s=0.000000\n",
      "  warnings.warn(RuntimeWarning(_iermess2[ierm][0] + _mess))\n",
      "/tmp/ipykernel_18299/2263939655.py:7: DeprecationWarning:         `interp2d` is deprecated!\n",
      "        `interp2d` is deprecated in SciPy 1.10 and will be removed in SciPy 1.12.0.\n",
      "\n",
      "        For legacy code, nearly bug-for-bug compatible replacements are\n",
      "        `RectBivariateSpline` on regular grids, and `bisplrep`/`bisplev` for\n",
      "        scattered 2D data.\n",
      "\n",
      "        In new code, for regular grids use `RegularGridInterpolator` instead.\n",
      "        For scattered data, prefer `LinearNDInterpolator` or\n",
      "        `CloughTocher2DInterpolator`.\n",
      "\n",
      "        For more details see\n",
      "        `https://gist.github.com/ev-br/8544371b40f414b7eaf3fe6217209bff`\n",
      "\n",
      "  depth_ = f(v, u)\n"
     ]
    },
    {
     "data": {
      "text/plain": "array([[ 0.00000000e+00,  0.00000000e+00,  0.00000000e+00, ...,\n         5.63371797e+00,  5.75924219e+00,  5.91620636e+00],\n       [ 0.00000000e+00,  0.00000000e+00,  0.00000000e+00, ...,\n         5.63371797e+00,  5.75924219e+00,  5.91620636e+00],\n       [ 0.00000000e+00,  0.00000000e+00,  0.00000000e+00, ...,\n         5.63371797e+00,  5.75924219e+00,  5.91620636e+00],\n       ...,\n       [-2.24546255e+05, -2.24546255e+05, -2.24546255e+05, ...,\n        -4.89698977e+00, -7.81395692e+00, -1.12500591e+01],\n       [-2.26713010e+05, -2.26713010e+05, -2.26713010e+05, ...,\n        -4.99941955e+00, -7.93604267e+00, -1.13938978e+01],\n       [-2.28892840e+05, -2.28892840e+05, -2.28892840e+05, ...,\n        -5.10336313e+00, -8.05903612e+00, -1.15378723e+01]])"
     },
     "execution_count": 11,
     "metadata": {},
     "output_type": "execute_result"
    }
   ],
   "source": [
    "v, u = np.nonzero(depth)\n",
    "z = depth[v, u]\n",
    "\n",
    "import scipy\n",
    "f = scipy.interpolate.interp2d(v, u, z, kind='cubic')\n",
    "v, u = np.arange(0, depth.shape[0]), np.arange(0, depth.shape[1])\n",
    "depth_ = f(v, u)\n",
    "depth"
   ],
   "metadata": {
    "collapsed": false,
    "ExecuteTime": {
     "end_time": "2023-12-20T13:42:35.356920400Z",
     "start_time": "2023-12-20T13:42:34.186962600Z"
    }
   },
   "id": "907261514e94aba4"
  },
  {
   "cell_type": "code",
   "execution_count": 13,
   "outputs": [
    {
     "data": {
      "text/plain": "<Figure size 640x480 with 1 Axes>",
      "image/png": "[encoded data removed]"
     },
     "metadata": {},
     "output_type": "display_data"
    }
   ],
   "source": [
    "from tools.visualize_util import plt_show\n",
    "plt_show(depth,rgb=False)"
   ],
   "metadata": {
    "collapsed": false,
    "ExecuteTime": {
     "end_time": "2023-12-20T13:44:48.025683600Z",
     "start_time": "2023-12-20T13:44:47.915027700Z"
    }
   },
   "id": "dab5084b69f9da17"
  },
  {
   "cell_type": "code",
   "execution_count": null,
   "outputs": [],
   "source": [],
   "metadata": {
    "collapsed": false
   },
   "id": "15c16c536501b845"
  }
 ],
 "metadata": {
  "kernelspec": {
   "display_name": "Python 3",
   "language": "python",
   "name": "python3"
  },
  "language_info": {
   "codemirror_mode": {
    "name": "ipython",
    "version": 2
   },
   "file_extension": ".py",
   "mimetype": "text/x-python",
   "name": "python",
   "nbconvert_exporter": "python",
   "pygments_lexer": "ipython2",
   "version": "2.7.6"
  }
 },
 "nbformat": 4,
 "nbformat_minor": 5
}
