{
 "cells": [
  {
   "cell_type": "code",
   "execution_count": 1,
   "id": "initial_id",
   "metadata": {
    "collapsed": true,
    "ExecuteTime": {
     "end_time": "2023-12-11T10:48:07.892520900Z",
     "start_time": "2023-12-11T10:48:06.382492700Z"
    }
   },
   "outputs": [
    {
     "name": "stdout",
     "output_type": "stream",
     "text": [
      "Jupyter environment detected. Enabling Open3D WebVisualizer.\n",
      "[Open3D INFO] WebRTC GUI backend enabled.\n",
      "[Open3D INFO] WebRTCWindowSystem: HTTP handshake server disabled.\n"
     ]
    }
   ],
   "source": [
    "import numpy as np\n",
    "import open3d as o3d\n",
    "import pathlib\n",
    "import re\n",
    "from ipywidgets import interact\n",
    "from lib.datasets.kitti_utils import Calibration\n",
    "import cv2\n",
    "\n",
    "%load_ext autoreload\n",
    "%autoreload 2"
   ]
  },
  {
   "cell_type": "code",
   "execution_count": 50,
   "outputs": [],
   "source": [
    "from pathlib import Path\n",
    "from tools.sample_util import SampleDatabase, Sample\n",
    "from tools.dataset_util import Dataset\n",
    "test_dir = Path(\"/mnt/e/DataSet/kitti/kitti_inst_database/test\")\n",
    "np.random.seed(3)\n",
    "\n",
    "random_flip = 0.5\n",
    "database = SampleDatabase(\"/mnt/e/DataSet/kitti/kitti_inst_database/\", random_flip=random_flip)\n",
    "dataset = Dataset(\"train\", r\"/mnt/e/DataSet/kitti\")"
   ],
   "metadata": {
    "collapsed": false,
    "ExecuteTime": {
     "end_time": "2023-12-11T11:21:51.403576700Z",
     "start_time": "2023-12-11T11:21:49.076650300Z"
    }
   },
   "id": "bb244f217a0c49d8"
  },
  {
   "cell_type": "code",
   "execution_count": 51,
   "outputs": [
    {
     "name": "stdout",
     "output_type": "stream",
     "text": [
      "1.5881949102514081 2.636689249613409 1.56\n",
      "1.5881949102514081 2.636689249613409 1.56\n",
      "1.5881949102514081 2.636689249613409 1.56\n",
      "1.5881949102514081 2.636689249613409 1.56\n",
      "1.5881949102514081 2.636689249613409 1.56\n",
      "1.5881949102514081 2.636689249613409 1.56\n",
      "1.5881949102514081 2.636689249613409 1.56\n",
      "1.5881949102514081 2.636689249613409 1.56\n",
      "1.5881949102514081 2.636689249613409 1.56\n",
      "1.5881949102514081 2.636689249613409 1.56\n"
     ]
    }
   ],
   "source": [
    "xyz_ = np.array([0, 0, 25])\n",
    "xyz_ = np.repeat(xyz_.reshape(1, -1), 10, axis=0)\n",
    "xyz_[:, 0] += np.arange(-40, 40, 8)\n",
    "samples = database.samples_from_database(1)\n",
    "samples = samples * 10\n",
    "calib = samples[0][\"calib\"]\n",
    "\n",
    "samples, xyz_ = database.sample_xyz(samples=samples, xyz_=xyz_)\n",
    "samples, bbox3d_ = database.xyz_to_bbox3d(samples, xyz_, calib_=calib)\n",
    "samples = [Sample(samples[i], bbox3d_[i], calib, database) for i in range(10)]"
   ],
   "metadata": {
    "collapsed": false,
    "ExecuteTime": {
     "end_time": "2023-12-11T11:21:51.454170200Z",
     "start_time": "2023-12-11T11:21:51.406083100Z"
    }
   },
   "id": "37f3df15c1190cf2"
  },
  {
   "cell_type": "code",
   "execution_count": 54,
   "outputs": [],
   "source": [
    "from tools.visualize_util import show_o3d\n",
    "\n",
    "cords = []\n",
    "rgbs = []\n",
    "for i in range(10):\n",
    "    cord, rgb = samples[i].get_points()\n",
    "    cords.append(cord)\n",
    "    rgbs.append(rgb)\n",
    "\n",
    "cord = np.concatenate([*cords], axis=0)\n",
    "rgb = np.concatenate([*rgbs], axis=0)\n",
    "bbox3ds = np.array([samples[i].bbox3d_ for i in range(10)])\n",
    "\n",
    "show_o3d(cord, rgb, bbox3d=bbox3ds)"
   ],
   "metadata": {
    "collapsed": false,
    "ExecuteTime": {
     "end_time": "2023-12-11T11:38:12.128493900Z",
     "start_time": "2023-12-11T11:33:16.557280500Z"
    }
   },
   "id": "fdbc9cb3beb9a1eb"
  },
  {
   "cell_type": "code",
   "execution_count": null,
   "outputs": [],
   "source": [],
   "metadata": {
    "collapsed": false
   },
   "id": "f5bcf59cfee39b5c"
  }
 ],
 "metadata": {
  "kernelspec": {
   "display_name": "Python 3",
   "language": "python",
   "name": "python3"
  },
  "language_info": {
   "codemirror_mode": {
    "name": "ipython",
    "version": 2
   },
   "file_extension": ".py",
   "mimetype": "text/x-python",
   "name": "python",
   "nbconvert_exporter": "python",
   "pygments_lexer": "ipython2",
   "version": "2.7.6"
  }
 },
 "nbformat": 4,
 "nbformat_minor": 5
}
